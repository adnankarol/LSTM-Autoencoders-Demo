{
 "cells": [
  {
   "attachments": {},
   "cell_type": "markdown",
   "metadata": {},
   "source": [
    "# Demonstrating 2D LSTM Autoencoders"
   ]
  },
  {
   "attachments": {},
   "cell_type": "markdown",
   "metadata": {},
   "source": [
    "## Import Dependencies"
   ]
  },
  {
   "cell_type": "code",
   "execution_count": 1,
   "metadata": {},
   "outputs": [],
   "source": [
    "import pandas as pd\n",
    "import numpy as np\n",
    "\n",
    "from tensorflow import keras\n",
    "from tensorflow.python.keras.layers import Input, Dense,RepeatVector, TimeDistributed, Dense, Dropout, LSTM\n",
    "from tensorflow.python.keras.models import Sequential\n",
    "\n",
    "import matplotlib.pyplot as plt\n",
    "%matplotlib inline\n",
    "\n",
    "import sklearn\n",
    "from sklearn.preprocessing import StandardScaler\n",
    "from sklearn.model_selection import train_test_split"
   ]
  },
  {
   "attachments": {},
   "cell_type": "markdown",
   "metadata": {},
   "source": [
    "## Read The Data"
   ]
  },
  {
   "cell_type": "code",
   "execution_count": 2,
   "metadata": {},
   "outputs": [
    {
     "data": {
      "text/html": [
       "<div>\n",
       "<style scoped>\n",
       "    .dataframe tbody tr th:only-of-type {\n",
       "        vertical-align: middle;\n",
       "    }\n",
       "\n",
       "    .dataframe tbody tr th {\n",
       "        vertical-align: top;\n",
       "    }\n",
       "\n",
       "    .dataframe thead th {\n",
       "        text-align: right;\n",
       "    }\n",
       "</style>\n",
       "<table border=\"1\" class=\"dataframe\">\n",
       "  <thead>\n",
       "    <tr style=\"text-align: right;\">\n",
       "      <th></th>\n",
       "      <th>Class</th>\n",
       "      <th>Confidence</th>\n",
       "    </tr>\n",
       "    <tr>\n",
       "      <th>Time Stamp</th>\n",
       "      <th></th>\n",
       "      <th></th>\n",
       "    </tr>\n",
       "  </thead>\n",
       "  <tbody>\n",
       "    <tr>\n",
       "      <th>1602438412</th>\n",
       "      <td>1</td>\n",
       "      <td>0.84</td>\n",
       "    </tr>\n",
       "    <tr>\n",
       "      <th>1602438413</th>\n",
       "      <td>2</td>\n",
       "      <td>0.73</td>\n",
       "    </tr>\n",
       "    <tr>\n",
       "      <th>1602438414</th>\n",
       "      <td>3</td>\n",
       "      <td>0.51</td>\n",
       "    </tr>\n",
       "    <tr>\n",
       "      <th>1602438415</th>\n",
       "      <td>4</td>\n",
       "      <td>0.49</td>\n",
       "    </tr>\n",
       "    <tr>\n",
       "      <th>1602438416</th>\n",
       "      <td>5</td>\n",
       "      <td>0.97</td>\n",
       "    </tr>\n",
       "  </tbody>\n",
       "</table>\n",
       "</div>"
      ],
      "text/plain": [
       "            Class  Confidence\n",
       "Time Stamp                   \n",
       "1602438412      1        0.84\n",
       "1602438413      2        0.73\n",
       "1602438414      3        0.51\n",
       "1602438415      4        0.49\n",
       "1602438416      5        0.97"
      ]
     },
     "execution_count": 2,
     "metadata": {},
     "output_type": "execute_result"
    }
   ],
   "source": [
    "df = pd.read_csv('data/Sample.csv', parse_dates=['Time Stamp'], index_col='Time Stamp')\n",
    "df.head(n=5)  # visualize the data."
   ]
  },
  {
   "attachments": {},
   "cell_type": "markdown",
   "metadata": {},
   "source": [
    "Create Data for LSTM Input ( Series of Data i.e here create a series of data with time_steps number of elements)"
   ]
  },
  {
   "cell_type": "code",
   "execution_count": 3,
   "metadata": {},
   "outputs": [],
   "source": [
    "def create_dataset(X, y, time_steps=1):\n",
    "    Xs, ys = [], []\n",
    "    for i in range(len(X) - time_steps):\n",
    "        v = X.iloc[i:(i + time_steps)].values\n",
    "        Xs.append(v)        \n",
    "        ys.append(y.iloc[i + time_steps])\n",
    "    return np.array(Xs), np.array(ys)"
   ]
  },
  {
   "cell_type": "code",
   "execution_count": 4,
   "metadata": {},
   "outputs": [
    {
     "name": "stdout",
     "output_type": "stream",
     "text": [
      "(20, 5, 2)\n"
     ]
    }
   ],
   "source": [
    "# Timesteps will define how many Elements we have\n",
    "TIME_STEPS = 5\n",
    "\n",
    "X_train, y_train = create_dataset(df, df, TIME_STEPS)\n",
    "\n",
    "\n",
    "print(X_train.shape)"
   ]
  },
  {
   "cell_type": "code",
   "execution_count": 5,
   "metadata": {
    "scrolled": false
   },
   "outputs": [
    {
     "name": "stdout",
     "output_type": "stream",
     "text": [
      "[[[1.    0.84 ]\n",
      "  [2.    0.73 ]\n",
      "  [3.    0.51 ]\n",
      "  [4.    0.49 ]\n",
      "  [5.    0.97 ]]\n",
      "\n",
      " [[2.    0.73 ]\n",
      "  [3.    0.51 ]\n",
      "  [4.    0.49 ]\n",
      "  [5.    0.97 ]\n",
      "  [1.    0.78 ]]\n",
      "\n",
      " [[3.    0.51 ]\n",
      "  [4.    0.49 ]\n",
      "  [5.    0.97 ]\n",
      "  [1.    0.78 ]\n",
      "  [2.    0.65 ]]\n",
      "\n",
      " [[4.    0.49 ]\n",
      "  [5.    0.97 ]\n",
      "  [1.    0.78 ]\n",
      "  [2.    0.65 ]\n",
      "  [3.    0.41 ]]\n",
      "\n",
      " [[5.    0.97 ]\n",
      "  [1.    0.78 ]\n",
      "  [2.    0.65 ]\n",
      "  [3.    0.41 ]\n",
      "  [4.    0.32 ]]\n",
      "\n",
      " [[1.    0.78 ]\n",
      "  [2.    0.65 ]\n",
      "  [3.    0.41 ]\n",
      "  [4.    0.32 ]\n",
      "  [5.    0.52 ]]\n",
      "\n",
      " [[2.    0.65 ]\n",
      "  [3.    0.41 ]\n",
      "  [4.    0.32 ]\n",
      "  [5.    0.52 ]\n",
      "  [1.    0.46 ]]\n",
      "\n",
      " [[3.    0.41 ]\n",
      "  [4.    0.32 ]\n",
      "  [5.    0.52 ]\n",
      "  [1.    0.46 ]\n",
      "  [2.    0.85 ]]\n",
      "\n",
      " [[4.    0.32 ]\n",
      "  [5.    0.52 ]\n",
      "  [1.    0.46 ]\n",
      "  [2.    0.85 ]\n",
      "  [3.    0.96 ]]\n",
      "\n",
      " [[5.    0.52 ]\n",
      "  [1.    0.46 ]\n",
      "  [2.    0.85 ]\n",
      "  [3.    0.96 ]\n",
      "  [4.    0.78 ]]\n",
      "\n",
      " [[1.    0.46 ]\n",
      "  [2.    0.85 ]\n",
      "  [3.    0.96 ]\n",
      "  [4.    0.78 ]\n",
      "  [5.    0.14 ]]\n",
      "\n",
      " [[2.    0.85 ]\n",
      "  [3.    0.96 ]\n",
      "  [4.    0.78 ]\n",
      "  [5.    0.14 ]\n",
      "  [1.    0.65 ]]\n",
      "\n",
      " [[3.    0.96 ]\n",
      "  [4.    0.78 ]\n",
      "  [5.    0.14 ]\n",
      "  [1.    0.65 ]\n",
      "  [2.    0.653]]\n",
      "\n",
      " [[4.    0.78 ]\n",
      "  [5.    0.14 ]\n",
      "  [1.    0.65 ]\n",
      "  [2.    0.653]\n",
      "  [3.    0.456]]\n",
      "\n",
      " [[5.    0.14 ]\n",
      "  [1.    0.65 ]\n",
      "  [2.    0.653]\n",
      "  [3.    0.456]\n",
      "  [4.    0.78 ]]\n",
      "\n",
      " [[1.    0.65 ]\n",
      "  [2.    0.653]\n",
      "  [3.    0.456]\n",
      "  [4.    0.78 ]\n",
      "  [5.    0.32 ]]\n",
      "\n",
      " [[2.    0.653]\n",
      "  [3.    0.456]\n",
      "  [4.    0.78 ]\n",
      "  [5.    0.32 ]\n",
      "  [1.    0.07 ]]\n",
      "\n",
      " [[3.    0.456]\n",
      "  [4.    0.78 ]\n",
      "  [5.    0.32 ]\n",
      "  [1.    0.07 ]\n",
      "  [2.    0.96 ]]\n",
      "\n",
      " [[4.    0.78 ]\n",
      "  [5.    0.32 ]\n",
      "  [1.    0.07 ]\n",
      "  [2.    0.96 ]\n",
      "  [3.    0.85 ]]\n",
      "\n",
      " [[5.    0.32 ]\n",
      "  [1.    0.07 ]\n",
      "  [2.    0.96 ]\n",
      "  [3.    0.85 ]\n",
      "  [4.    0.64 ]]]\n"
     ]
    }
   ],
   "source": [
    "print(X_train)"
   ]
  },
  {
   "attachments": {},
   "cell_type": "markdown",
   "metadata": {},
   "source": [
    "Size of Input Data  is n_samples * timesteps * n_features "
   ]
  },
  {
   "attachments": {},
   "cell_type": "markdown",
   "metadata": {},
   "source": [
    "## Create the LSTM AUTOENCODER MODEL"
   ]
  },
  {
   "cell_type": "code",
   "execution_count": 7,
   "metadata": {},
   "outputs": [
    {
     "name": "stdout",
     "output_type": "stream",
     "text": [
      "Model: \"sequential\"\n",
      "_________________________________________________________________\n",
      "Layer (type)                 Output Shape              Param #   \n",
      "=================================================================\n",
      "lstm (LSTM)                  (None, 128)               67072     \n",
      "_________________________________________________________________\n",
      "dropout (Dropout)            (None, 128)               0         \n",
      "_________________________________________________________________\n",
      "repeat_vector (RepeatVector) (None, 5, 128)            0         \n",
      "_________________________________________________________________\n",
      "lstm_1 (LSTM)                (None, 5, 128)            131584    \n",
      "_________________________________________________________________\n",
      "dropout_1 (Dropout)          (None, 5, 128)            0         \n",
      "_________________________________________________________________\n",
      "time_distributed (TimeDistri (None, 5, 2)              258       \n",
      "=================================================================\n",
      "Total params: 198,914\n",
      "Trainable params: 198,914\n",
      "Non-trainable params: 0\n",
      "_________________________________________________________________\n"
     ]
    }
   ],
   "source": [
    "model = Sequential()\n",
    "model.add(LSTM(128, input_shape=(X_train.shape[1], X_train.shape[2])))\n",
    "model.add(Dropout(rate=0.2))\n",
    "model.add(RepeatVector(X_train.shape[1]))\n",
    "model.add(LSTM(128, return_sequences=True))\n",
    "model.add(Dropout(rate=0.2))\n",
    "model.add(TimeDistributed(Dense(X_train.shape[2])))\n",
    "model.compile(optimizer='adam', loss='mae')\n",
    "model.summary()"
   ]
  },
  {
   "attachments": {},
   "cell_type": "markdown",
   "metadata": {},
   "source": [
    "## Train the Model "
   ]
  },
  {
   "cell_type": "code",
   "execution_count": 8,
   "metadata": {},
   "outputs": [
    {
     "name": "stdout",
     "output_type": "stream",
     "text": [
      "Train on 18 samples, validate on 2 samples\n",
      "Epoch 1/200\n",
      "18/18 [==============================] - 3s 162ms/sample - loss: 1.7713 - val_loss: 1.6637\n",
      "Epoch 2/200\n",
      "18/18 [==============================] - 0s 1ms/sample - loss: 1.6562 - val_loss: 1.5618\n",
      "Epoch 3/200\n",
      "18/18 [==============================] - 0s 1ms/sample - loss: 1.5491 - val_loss: 1.4506\n",
      "Epoch 4/200\n",
      "18/18 [==============================] - 0s 1ms/sample - loss: 1.4377 - val_loss: 1.3408\n",
      "Epoch 5/200\n",
      "18/18 [==============================] - 0s 1ms/sample - loss: 1.3235 - val_loss: 1.2277\n",
      "Epoch 6/200\n",
      "18/18 [==============================] - 0s 1ms/sample - loss: 1.2430 - val_loss: 1.1213\n",
      "Epoch 7/200\n",
      "18/18 [==============================] - 0s 1ms/sample - loss: 1.1677 - val_loss: 1.0242\n",
      "Epoch 8/200\n",
      "18/18 [==============================] - 0s 1ms/sample - loss: 1.0869 - val_loss: 0.9438\n",
      "Epoch 9/200\n",
      "18/18 [==============================] - 0s 1ms/sample - loss: 1.0336 - val_loss: 0.8825\n",
      "Epoch 10/200\n",
      "18/18 [==============================] - 0s 1ms/sample - loss: 0.9667 - val_loss: 0.8851\n",
      "Epoch 11/200\n",
      "18/18 [==============================] - 0s 1ms/sample - loss: 0.8799 - val_loss: 0.9382\n",
      "Epoch 12/200\n",
      "18/18 [==============================] - 0s 1ms/sample - loss: 0.8232 - val_loss: 1.0263\n"
     ]
    }
   ],
   "source": [
    "history = model.fit(X_train, X_train, epochs=200, batch_size=32, validation_split=0.1,\n",
    "                    callbacks=[keras.callbacks.EarlyStopping(monitor='val_loss', patience=3, mode='min')], shuffle=False)\n"
   ]
  },
  {
   "attachments": {},
   "cell_type": "markdown",
   "metadata": {},
   "source": [
    "## Visualize Training"
   ]
  },
  {
   "cell_type": "code",
   "execution_count": 9,
   "metadata": {},
   "outputs": [
    {
     "data": {
      "image/png": "[encoded data removed]",
      "text/plain": [
       "<Figure size 432x288 with 1 Axes>"
      ]
     },
     "metadata": {
      "needs_background": "light"
     },
     "output_type": "display_data"
    }
   ],
   "source": [
    "plt.plot(history.history['loss'], label='Training loss')\n",
    "plt.plot(history.history['val_loss'], label='Validation loss')\n",
    "plt.legend()"
   ]
  },
  {
   "attachments": {},
   "cell_type": "markdown",
   "metadata": {},
   "source": [
    "## Test the AUTOENCODER"
   ]
  },
  {
   "cell_type": "code",
   "execution_count": 10,
   "metadata": {},
   "outputs": [
    {
     "name": "stdout",
     "output_type": "stream",
     "text": [
      " THE MSE IS  :  0.09770384336959057\n",
      "The Recreated Output is :  [[1.1208125  0.33779058]\n",
      " [2.170816   0.5113479 ]\n",
      " [3.0839798  0.5797549 ]\n",
      " [3.819326   0.5880815 ]\n",
      " [4.376938   0.5675875 ]]\n"
     ]
    }
   ],
   "source": [
    "#Create a new test data close to what model has seen and check the MSE\n",
    "test1 = np.array([[ 1, 0.7],\n",
    "                [2, 0.86],\n",
    "                [2.9, 0.85],\n",
    "                [4.1, 0.64],\n",
    "                [5,0.89]])\n",
    "\n",
    "test = np.reshape(test1,newshape=(-1,5,2))\n",
    "y = model.predict(test)\n",
    "y = y.reshape(5,2)\n",
    "print(\" THE MSE IS  : \" ,sklearn.metrics.mean_squared_error(test1, y))\n",
    "print(\"The Recreated Output is : \",y)"
   ]
  },
  {
   "attachments": {},
   "cell_type": "markdown",
   "metadata": {},
   "source": [
    "Here the model is able to recreate the input with low Error"
   ]
  },
  {
   "cell_type": "code",
   "execution_count": 11,
   "metadata": {},
   "outputs": [
    {
     "name": "stdout",
     "output_type": "stream",
     "text": [
      " THE MSE IS  :  2.5207483415118306\n",
      "The Recreated Output is :  [[1.6618627  0.4883529 ]\n",
      " [3.1379414  0.71685326]\n",
      " [4.2798247  0.7910608 ]\n",
      " [5.0690384  0.79329824]\n",
      " [5.580368   0.7696756 ]]\n"
     ]
    }
   ],
   "source": [
    "#Create a new test data close to what model has NOT seen and check the MSE\n",
    "test2 = np.array([[ 1, 0.74],\n",
    "                  [6, 0.60],\n",
    "                  [7, 0.96],\n",
    "                  [8, 0.42],\n",
    "                  [5,0.85]])\n",
    "\n",
    "test = np.reshape(test2,newshape=(-1,5,2))\n",
    "y = model.predict(test)\n",
    "y = y.reshape(5,2)\n",
    "print(\" THE MSE IS  : \" ,sklearn.metrics.mean_squared_error(test2, y))\n",
    "print(\"The Recreated Output is : \",y)"
   ]
  },
  {
   "attachments": {},
   "cell_type": "markdown",
   "metadata": {},
   "source": [
    "Here the model is NOT able to recreate the Input as its not trained on such a data and can not extract its features"
   ]
  }
 ],
 "metadata": {
  "kernelspec": {
   "display_name": "Python 3",
   "language": "python",
   "name": "python3"
  },
  "language_info": {
   "codemirror_mode": {
    "name": "ipython",
    "version": 3
   },
   "file_extension": ".py",
   "mimetype": "text/x-python",
   "name": "python",
   "nbconvert_exporter": "python",
   "pygments_lexer": "ipython3",
   "version": "3.7.6"
  }
 },
 "nbformat": 4,
 "nbformat_minor": 4
}
